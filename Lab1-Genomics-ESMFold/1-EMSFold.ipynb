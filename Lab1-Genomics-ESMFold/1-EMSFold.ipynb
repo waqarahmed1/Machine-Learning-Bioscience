{
 "cells": [
  {
   "cell_type": "markdown",
   "id": "8d2f9a46-e534-419e-9039-11bbcd102002",
   "metadata": {},
   "source": [
    "Introduction\n",
    "\n",
    "This notebook will introduce some base API functionality of the ESMFold LLM, which is a Metagenomics Atlas. Allowing us to Fold a protein sequence to see the resultant predicted structure."
   ]
  },
  {
   "cell_type": "markdown",
   "id": "71976231-c209-40a1-8e9e-1f2a088b0a43",
   "metadata": {},
   "source": [
    "We will use the following Python libraries:\n",
    "\n",
    "- PyTorch\n",
    "- esm\n",
    "- prothelpers\n",
    "- py3Dmol"
   ]
  },
  {
   "cell_type": "markdown",
   "id": "e2a39041-cf03-4b4a-afc4-e3adafc5ba5f",
   "metadata": {},
   "source": [
    "Will walkthrough each stage step-by-step carrying out the following taks:\n",
    "\n",
    "1. Download Protein PDB data\n",
    "2. Parse the protein data\n",
    "3. Visualise protein data\n",
    "4. Extract an experimental structure and sequence of chain\n",
    "5. Setup a pre-trained ESMFold model using AutoTokenizer from HuggingFace\n",
    "6. Tokenise sequence (experimental structure from step 4.) to convert it into numerical format (so can be used by ESMFold for prediciton)\n",
    "7. Use instantiated ESMFold Model to make prediction\n",
    "8. Submit tokenised sequence to ESMFold model to make prediction of the 3D Structure (May take ~5 minutes on non hardware accelerated setup)\n",
    "9. View result visualisation\n",
    "10. Evaluate accuracy of prediction by comapring to experimental structure.\n",
    "11. Calculate TM-Score and RMSD to evaluate overall prediction experimentation\n",
    "12. Finish\n"
   ]
  }
 ],
 "metadata": {
  "kernelspec": {
   "display_name": "Python 3 (ipykernel)",
   "language": "python",
   "name": "python3"
  },
  "language_info": {
   "codemirror_mode": {
    "name": "ipython",
    "version": 3
   },
   "file_extension": ".py",
   "mimetype": "text/x-python",
   "name": "python",
   "nbconvert_exporter": "python",
   "pygments_lexer": "ipython3",
   "version": "3.8.0"
  }
 },
 "nbformat": 4,
 "nbformat_minor": 5
}
