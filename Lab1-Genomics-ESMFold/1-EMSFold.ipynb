{
 "cells": [
  {
   "cell_type": "markdown",
   "id": "8d2f9a46-e534-419e-9039-11bbcd102002",
   "metadata": {},
   "source": [
    "Introduction\n",
    "\n",
    "This notebook will introduce some base API functionality of the ESMFold LLM, which is a Metagenomics Atlas. Allowing us to Fold a protein sequence to see the resultant predicted structure."
   ]
  },
  {
   "cell_type": "markdown",
   "id": "71976231-c209-40a1-8e9e-1f2a088b0a43",
   "metadata": {},
   "source": [
    "We will use the following Python libraries:\n",
    "\n",
    "- PyTorch\n",
    "- esm\n",
    "- prothelpers\n",
    "- py3Dmol"
   ]
  },
  {
   "cell_type": "code",
   "execution_count": null,
   "id": "6dcfdf57-22cc-4bc7-9606-1945c30a9f53",
   "metadata": {},
   "outputs": [],
   "source": []
  },
  {
   "cell_type": "markdown",
   "id": "e2a39041-cf03-4b4a-afc4-e3adafc5ba5f",
   "metadata": {},
   "source": [
    "Will walkthrough each stage step-by-step carrying out the following taks:\n",
    "\n",
    "1. Download Protein PDB data\n",
    "2. Parse the protein data\n",
    "3. Visualise protein data\n",
    "4. Extract an experimental structure and sequence of chain\n",
    "5. Setup a pre-trained ESMFold model using AutoTokenizer from HuggingFace\n",
    "6. Tokenise sequence (experimental structure from step 4.) to convert it into numerical format (so can be used by ESMFold for prediciton)\n",
    "7. Use instantiated ESMFold Model to make prediction\n",
    "8. Submit tokenised sequence to ESMFold model to make prediction of the 3D Structure (May take ~5 minutes on non hardware accelerated setup)\n",
    "9. View result visualisation\n",
    "10. Evaluate accuracy of prediction by comapring to experimental structure.\n",
    "11. Calculate TM-Score and RMSD to evaluate overall prediction experimentation\n",
    "12. Finish\n"
   ]
  },
  {
   "cell_type": "markdown",
   "id": "cfd82a9e-0b9b-412e-a318-eff40d755ef1",
   "metadata": {},
   "source": [
    "#1. Download Protein PDB data"
   ]
  },
  {
   "cell_type": "code",
   "execution_count": 1,
   "id": "29fdd113-0193-4d0c-990d-81ad60687a1c",
   "metadata": {},
   "outputs": [
    {
     "ename": "ModuleNotFoundError",
     "evalue": "No module named 'Bio'",
     "output_type": "error",
     "traceback": [
      "\u001b[0;31m---------------------------------------------------------------------------\u001b[0m",
      "\u001b[0;31mModuleNotFoundError\u001b[0m                       Traceback (most recent call last)",
      "Cell \u001b[0;32mIn[1], line 1\u001b[0m\n\u001b[0;32m----> 1\u001b[0m \u001b[38;5;28;01mfrom\u001b[39;00m \u001b[38;5;21;01mBio\u001b[39;00m\u001b[38;5;21;01m.\u001b[39;00m\u001b[38;5;21;01mPDB\u001b[39;00m \u001b[38;5;28;01mimport\u001b[39;00m PDBList, MMCIFParser\n\u001b[1;32m      2\u001b[0m \u001b[38;5;28;01mimport\u001b[39;00m \u001b[38;5;21;01mos\u001b[39;00m\n\u001b[1;32m      3\u001b[0m \u001b[38;5;28;01mimport\u001b[39;00m \u001b[38;5;21;01mpy3Dmol\u001b[39;00m\n",
      "\u001b[0;31mModuleNotFoundError\u001b[0m: No module named 'Bio'"
     ]
    }
   ],
   "source": [
    "from Bio.PDB import PDBList, MMCIFParser\n",
    "import os\n",
    "import py3Dmol\n",
    "from prothelpers.structure import atoms_to_pdb\n",
    "import warnings\n",
    "\n",
    "target_id = \"1N8Z\"\n",
    "\n",
    "if not os.path.isdir(\"data\"):\n",
    "    os.mkdir(\"data\")\n",
    "\n",
    "pdbl = PDBList()\n",
    "filename = pdbl.retrieve_pdb_file(target_id, pdir=\"data\", file_format=\"mmCif\")"
   ]
  },
  {
   "cell_type": "markdown",
   "id": "98190270-efd4-495b-bf70-a4005c78bafa",
   "metadata": {},
   "source": [
    "#2. Parse the protein data"
   ]
  },
  {
   "cell_type": "code",
   "execution_count": null,
   "id": "1c812e44-6ff6-45f1-af4e-311a753ad42b",
   "metadata": {},
   "outputs": [],
   "source": [
    "parser = MMCIFParser()\n",
    "with warnings.catch_warnings():\n",
    "    warnings.simplefilter(\"ignore\")\n",
    "    structure_1N8Z = parser.get_structure(target_id, filename)\n",
    "pdb_string = atoms_to_pdb(structure_1N8Z[0])"
   ]
  },
  {
   "cell_type": "markdown",
   "id": "c4dbe41b-a4bc-4d47-bc5a-32e1324560f7",
   "metadata": {},
   "source": [
    "#3. Visualise protein data"
   ]
  },
  {
   "cell_type": "code",
   "execution_count": null,
   "id": "ace55e0b-3f53-4712-b02e-f4ade94add59",
   "metadata": {},
   "outputs": [],
   "source": [
    "view = py3Dmol.view(width=600, height=400)\n",
    "view.addModel(pdb_string)\n",
    "view.setStyle({\"chain\": \"A\"}, {\"cartoon\": {\"color\": \"orange\", \"opacity\": 0.5}})\n",
    "view.setStyle({\"chain\": \"B\"}, {\"cartoon\": {\"color\": \"blue\"}})\n",
    "view.setStyle({\"chain\": \"C\"}, {\"cartoon\": {\"color\": \"green\", \"opacity\": 0.5}})\n",
    "view.zoomTo()\n",
    "view.show()"
   ]
  },
  {
   "cell_type": "markdown",
   "id": "8196522f-ece8-49b6-a35c-877331e9d71a",
   "metadata": {},
   "source": [
    "#4. Extract an experimental structure and sequence of chain"
   ]
  },
  {
   "cell_type": "code",
   "execution_count": 2,
   "id": "15a47af5-9e6b-44b4-97c2-91a93883fe77",
   "metadata": {},
   "outputs": [
    {
     "ename": "ModuleNotFoundError",
     "evalue": "No module named 'prothelpers'",
     "output_type": "error",
     "traceback": [
      "\u001b[0;31m---------------------------------------------------------------------------\u001b[0m",
      "\u001b[0;31mModuleNotFoundError\u001b[0m                       Traceback (most recent call last)",
      "Cell \u001b[0;32mIn[2], line 1\u001b[0m\n\u001b[0;32m----> 1\u001b[0m \u001b[38;5;28;01mfrom\u001b[39;00m \u001b[38;5;21;01mprothelpers\u001b[39;00m\u001b[38;5;21;01m.\u001b[39;00m\u001b[38;5;21;01mstructure\u001b[39;00m \u001b[38;5;28;01mimport\u001b[39;00m get_aa_seq\n\u001b[1;32m      3\u001b[0m experimental_structure \u001b[38;5;241m=\u001b[39m atoms_to_pdb(structure_1N8Z[\u001b[38;5;241m0\u001b[39m][\u001b[38;5;124m\"\u001b[39m\u001b[38;5;124mB\u001b[39m\u001b[38;5;124m\"\u001b[39m])\n\u001b[1;32m      4\u001b[0m \u001b[38;5;28;01mwith\u001b[39;00m \u001b[38;5;28mopen\u001b[39m(\u001b[38;5;124m\"\u001b[39m\u001b[38;5;124mdata/experimental.pdb\u001b[39m\u001b[38;5;124m\"\u001b[39m, \u001b[38;5;124m\"\u001b[39m\u001b[38;5;124mw\u001b[39m\u001b[38;5;124m\"\u001b[39m) \u001b[38;5;28;01mas\u001b[39;00m f:\n",
      "\u001b[0;31mModuleNotFoundError\u001b[0m: No module named 'prothelpers'"
     ]
    }
   ],
   "source": [
    "from prothelpers.structure import get_aa_seq\n",
    "\n",
    "experimental_structure = atoms_to_pdb(structure_1N8Z[0][\"B\"])\n",
    "with open(\"data/experimental.pdb\", \"w\") as f:\n",
    "    f.write(experimental_structure)\n",
    "\n",
    "experimental_sequence = get_aa_seq(structure_1N8Z[0][\"B\"])"
   ]
  },
  {
   "cell_type": "code",
   "execution_count": null,
   "id": "1767d5a1-c487-4ca0-9618-41d38b2f2bdc",
   "metadata": {},
   "outputs": [],
   "source": []
  }
 ],
 "metadata": {
  "kernelspec": {
   "display_name": "Python 3 (ipykernel)",
   "language": "python",
   "name": "python3"
  },
  "language_info": {
   "codemirror_mode": {
    "name": "ipython",
    "version": 3
   },
   "file_extension": ".py",
   "mimetype": "text/x-python",
   "name": "python",
   "nbconvert_exporter": "python",
   "pygments_lexer": "ipython3",
   "version": "3.8.0"
  }
 },
 "nbformat": 4,
 "nbformat_minor": 5
}
