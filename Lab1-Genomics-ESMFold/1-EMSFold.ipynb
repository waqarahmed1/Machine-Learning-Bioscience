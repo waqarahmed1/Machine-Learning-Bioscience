{
 "cells": [
  {
   "cell_type": "raw",
   "id": "febcbbbf-b72b-4c78-99ba-50c61fe48141",
   "metadata": {},
   "source": [
    "#Introduction\n",
    "\n",
    "This notebook will introduce some base API functionality of the ESMFold LLM, which is a Metagenomics Atlas. Allowing us to Fold a protein sequence to see th resultand predicted structure."
   ]
  }
 ],
 "metadata": {
  "kernelspec": {
   "display_name": "Python 3 (ipykernel)",
   "language": "python",
   "name": "python3"
  },
  "language_info": {
   "codemirror_mode": {
    "name": "ipython",
    "version": 3
   },
   "file_extension": ".py",
   "mimetype": "text/x-python",
   "name": "python",
   "nbconvert_exporter": "python",
   "pygments_lexer": "ipython3",
   "version": "3.8.0"
  }
 },
 "nbformat": 4,
 "nbformat_minor": 5
}
