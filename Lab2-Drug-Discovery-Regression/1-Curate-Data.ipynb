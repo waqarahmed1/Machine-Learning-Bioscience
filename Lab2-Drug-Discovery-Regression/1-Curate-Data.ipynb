{
 "cells": [
  {
   "cell_type": "markdown",
   "id": "1a65bd83-d638-4102-9008-5d9b8d251084",
   "metadata": {},
   "source": [
    "# INTRODUCTION\n",
    "First stages of the ML pipeline are to carry out Exploratory Data Analysis (EDA). By viewing the structure of data at hand \n",
    "and identifying any 'data cleansing' activities that we will need to carry out before arriving at meaningful/useful 'features' and overall 'training data' "
   ]
  },
  {
   "cell_type": "code",
   "execution_count": null,
   "id": "0caab551-231c-4af3-a149-628c7549d791",
   "metadata": {},
   "outputs": [],
   "source": [
    "import os\n",
    "import pandas as pd\n",
    "import numpy as np\n",
    "import matplotlib.pyplot as plt\n",
    "import seaborn as sns"
   ]
  },
  {
   "cell_type": "code",
   "execution_count": null,
   "id": "fd83499b-de79-4779-bee0-6009183abcd1",
   "metadata": {},
   "outputs": [],
   "source": []
  }
 ],
 "metadata": {
  "kernelspec": {
   "display_name": "Python 3 (ipykernel)",
   "language": "python",
   "name": "python3"
  },
  "language_info": {
   "codemirror_mode": {
    "name": "ipython",
    "version": 3
   },
   "file_extension": ".py",
   "mimetype": "text/x-python",
   "name": "python",
   "nbconvert_exporter": "python",
   "pygments_lexer": "ipython3",
   "version": "3.8.0"
  }
 },
 "nbformat": 4,
 "nbformat_minor": 5
}
